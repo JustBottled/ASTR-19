{
 "cells": [
  {
   "cell_type": "code",
   "execution_count": null,
   "id": "a35539e2-85dd-4f75-be91-c4d3e31873ee",
   "metadata": {},
   "outputs": [],
   "source": [
    "import numpy as np\n",
    "import matplotlib.pyplot as plt"
   ]
  },
  {
   "cell_type": "code",
   "execution_count": null,
   "id": "296b5873-4342-484d-96ca-20fe3155b154",
   "metadata": {},
   "outputs": [],
   "source": [
    "x = np.linspace(0, 1, 100)"
   ]
  },
  {
   "cell_type": "code",
   "execution_count": null,
   "id": "7add62e7-a18f-426a-bcf4-503efe639ab4",
   "metadata": {},
   "outputs": [],
   "source": [
    "def sin(x):\n",
    "    return np.sin(x)\n",
    "\n",
    "def cos(x):\n",
    "    return np.cos(x)"
   ]
  },
  {
   "cell_type": "code",
   "execution_count": null,
   "id": "69854ca9-021b-4020-aaaa-66fd7ab97c33",
   "metadata": {},
   "outputs": [],
   "source": [
    "f, axarr = plt.subplots(1, 2)\n",
    "\n",
    "axarr[0].plot(x, sin(x))\n",
    "axarr[0].set_xlabel('x')\n",
    "axarr[0].set_ylabel(\"sin(x)\")\n",
    "axarr[0].set_title(r\"$\\sin(x)$\")\n",
    "\n",
    "axarr[1].plot(x, cos(x))\n",
    "axarr[1].set_xlabel('x')\n",
    "axarr[1].set_ylabel(\"cos(x)\")\n",
    "axarr[1].set_title(r\"$\\cos(x)$\")\n",
    "\n",
    "f.subplots_adjust(wspace=0.4)\n",
    "\n",
    "plt.savefig(\"sin_and_cos_graph.pdf\", bbox_inches=\"tight\", facecolor=\"white\")"
   ]
  },
  {
   "cell_type": "code",
   "execution_count": null,
   "id": "e4a5367e-2aeb-460f-b362-8411fb0ee219",
   "metadata": {},
   "outputs": [],
   "source": []
  }
 ],
 "metadata": {
  "kernelspec": {
   "display_name": "ASTR 19",
   "language": "python",
   "name": "astr19"
  },
  "language_info": {
   "codemirror_mode": {
    "name": "ipython",
    "version": 3
   },
   "file_extension": ".py",
   "mimetype": "text/x-python",
   "name": "python",
   "nbconvert_exporter": "python",
   "pygments_lexer": "ipython3",
   "version": "3.10.12"
  }
 },
 "nbformat": 4,
 "nbformat_minor": 5
}
