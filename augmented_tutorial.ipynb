{
 "cells": [
  {
   "cell_type": "markdown",
   "id": "86199637-2823-477e-b5e9-c938702fc4ee",
   "metadata": {},
   "source": [
    "STEP 1) Load and import modules."
   ]
  },
  {
   "cell_type": "code",
   "execution_count": null,
   "id": "dc8e20b3-567a-454c-b2b9-1b3ca9de5d6e",
   "metadata": {},
   "outputs": [],
   "source": [
    "import numpy as np\n",
    "import sep\n",
    "\n",
    "from astropy.io import fits\n",
    "import matplotlib.pyplot as plt\n",
    "from matplotlib import rcParams"
   ]
  },
  {
   "cell_type": "code",
   "execution_count": null,
   "id": "1456eb43-4b9b-41bf-9df8-4b9c48f9e597",
   "metadata": {},
   "outputs": [],
   "source": [
    "%matplotlib inline\n",
    "\n",
    "rcParams['figure.figsize'] = [10., 8.]"
   ]
  },
  {
   "cell_type": "markdown",
   "id": "686e1010-2c2a-4e61-a4ef-073052be50e9",
   "metadata": {},
   "source": [
    "STEP 2) Read in data from .fits file"
   ]
  },
  {
   "cell_type": "code",
   "execution_count": null,
   "id": "a14ea861-fd47-4134-aba6-f05717977519",
   "metadata": {},
   "outputs": [],
   "source": [
    "data = fits.getdata(\"./Final Project/hlsp_hudf12_hst_wfc3ir_udfmain_f105w_v1.0_drz.fits\")\n",
    "f125w = fits.getdata(\"./Final Project/hlsp_hudf12_hst_wfc3ir_udfmain_f125w_v1.0_drz.fits\")\n",
    "f160w = fits.getdata(\"./Final Project/hlsp_hudf12_hst_wfc3ir_udfmain_f160w_v1.0_drz.fits\")\n",
    "\n",
    "data = data.byteswap().newbyteorder()\n",
    "f125w = f125w.byteswap().newbyteorder()\n",
    "f160w = f160w.byteswap().newbyteorder()"
   ]
  },
  {
   "cell_type": "markdown",
   "id": "acc5c1af-c509-424c-9f7c-c2c14a7c11f8",
   "metadata": {},
   "source": [
    "Skip to END OF PART 8 to look at the other parts first and the contineuation of STEP 3."
   ]
  },
  {
   "cell_type": "markdown",
   "id": "7d98322a-1436-4c45-bbe6-25e87b11c14e",
   "metadata": {},
   "source": [
    "----------------------------- SART OF PART 8 -----------------------------"
   ]
  },
  {
   "cell_type": "markdown",
   "id": "92905f14-f5af-4860-b15f-de318fc95524",
   "metadata": {},
   "source": [
    "Removing the background."
   ]
  },
  {
   "cell_type": "code",
   "execution_count": null,
   "id": "d7143550-7e28-4bb4-81a9-35daff3628b5",
   "metadata": {},
   "outputs": [],
   "source": [
    "bkg_f105w = sep.Background(data)\n",
    "bkg_f125w = sep.Background(f125w)\n",
    "bkg_f160w = sep.Background(f160w)\n",
    "\n",
    "f105w = data - bkg_f105w\n",
    "f125w -= bkg_f125w\n",
    "f160w -= bkg_f160w"
   ]
  },
  {
   "cell_type": "markdown",
   "id": "68e2c565-7936-4abf-b7b8-b05c862b8d8b",
   "metadata": {},
   "source": [
    "Defining the rescale data function to rescale the data to our purposes."
   ]
  },
  {
   "cell_type": "code",
   "execution_count": null,
   "id": "095408fd-8ff7-44e9-ab04-1a037e661bde",
   "metadata": {},
   "outputs": [],
   "source": [
    "def rescale_data(d, dmin=0.01, dmax=1.0):\n",
    "    \n",
    "    datac = np.clip(d, dmin, dmax)\n",
    "    return (np.log10(datac) - np.log10(dmin)) / (np.log10(dmax) - np.log10(dmin))"
   ]
  },
  {
   "cell_type": "markdown",
   "id": "80185577-62b9-4e48-8a79-df8c66d14013",
   "metadata": {},
   "source": [
    "Getting rescaled versions of the data."
   ]
  },
  {
   "cell_type": "code",
   "execution_count": null,
   "id": "3a4a17db-dd6d-4e6b-95b4-06c80062d52f",
   "metadata": {},
   "outputs": [],
   "source": [
    "p_f105w = rescale_data(f105w)\n",
    "p_f125w = rescale_data(f125w)\n",
    "p_f160w = rescale_data(f160w)"
   ]
  },
  {
   "cell_type": "markdown",
   "id": "04aff5eb-193d-4a78-8018-59c91145676b",
   "metadata": {},
   "source": [
    "Getting RGB stack."
   ]
  },
  {
   "cell_type": "code",
   "execution_count": null,
   "id": "41632f57-a1e7-459c-8c90-0bab91ccb139",
   "metadata": {},
   "outputs": [],
   "source": [
    "rgb = np.stack([p_f160w, 0.7 * p_f125w, p_f105w], axis = -1)\n",
    "print(rgb.shape)"
   ]
  },
  {
   "cell_type": "markdown",
   "id": "4c27cf1e-0b41-4d09-9301-8a38a5a7837b",
   "metadata": {},
   "source": [
    "Showing the data."
   ]
  },
  {
   "cell_type": "code",
   "execution_count": null,
   "id": "ed9260f3-58d6-48be-8bf6-a6bee1b2efd8",
   "metadata": {},
   "outputs": [],
   "source": [
    "xsize = rgb.shape[1]\n",
    "ysize = rgb.shape[0]\n",
    "\n",
    "f, ax = plt.subplots(1, 1, figsize=(xsize/1000., ysize/1000.0))\n",
    "ax.axis('off')\n",
    "ax.imshow(rgb, origin = 'lower')"
   ]
  },
  {
   "cell_type": "code",
   "execution_count": null,
   "id": "61c5ce70-9910-4816-bda2-8be22252b7ac",
   "metadata": {},
   "outputs": [],
   "source": [
    "rgb = np.clip(rgb, 0, 1) # Error keeps poping up where float has to be within 0 and 1\n",
    "plt.imsave('3-color_false_image.png', rgb, origin='lower')"
   ]
  },
  {
   "cell_type": "markdown",
   "id": "05509373-7827-451c-94e6-156534ecad29",
   "metadata": {},
   "source": [
    "----------------------------- END OF PART 8 -----------------------------"
   ]
  },
  {
   "cell_type": "markdown",
   "id": "5b23103b-df5f-4835-a66f-f5dcfaa24041",
   "metadata": {},
   "source": [
    "Showing the image."
   ]
  },
  {
   "cell_type": "code",
   "execution_count": null,
   "id": "a291292e-8b8f-488e-967f-92c3e96343b4",
   "metadata": {},
   "outputs": [],
   "source": [
    "m, s = np.nanmedian(data), np.std(data)\n",
    "\n",
    "plt.imshow(data, interpolation='nearest', cmap='gray', vmin=m-s, vmax=m+s, origin='lower')\n",
    "plt.colorbar();"
   ]
  },
  {
   "cell_type": "markdown",
   "id": "50dce612-f967-4574-a4a2-10fdb3334b55",
   "metadata": {},
   "source": [
    "STEP 3) Remove the background."
   ]
  },
  {
   "cell_type": "markdown",
   "id": "aec4922e-144b-482e-a256-f193cabcbfd5",
   "metadata": {},
   "source": [
    "Measure a spatially varying background on the image. (getting the background of the image)"
   ]
  },
  {
   "cell_type": "code",
   "execution_count": null,
   "id": "2ab6ebd6-92de-46eb-aab1-553fb46d491c",
   "metadata": {},
   "outputs": [],
   "source": [
    "bkg = sep.Background(data)"
   ]
  },
  {
   "cell_type": "code",
   "execution_count": null,
   "id": "394f98f1-3a68-4d4d-a1e8-e2c83c101ae9",
   "metadata": {},
   "outputs": [],
   "source": [
    "print(bkg.globalback)\n",
    "print(bkg.globalrms)"
   ]
  },
  {
   "cell_type": "code",
   "execution_count": null,
   "id": "b776771a-8f1a-4af6-ae78-45f44afaa6d4",
   "metadata": {},
   "outputs": [],
   "source": [
    "bkg_image = bkg.back()"
   ]
  },
  {
   "cell_type": "markdown",
   "id": "84f1000d-6415-45ea-9bbc-a4a03c4dcf69",
   "metadata": {},
   "source": [
    "Show the backround."
   ]
  },
  {
   "cell_type": "code",
   "execution_count": null,
   "id": "e067a85d-96ba-4b31-abf7-2f1f4735e348",
   "metadata": {},
   "outputs": [],
   "source": [
    "plt.imshow(bkg_image, interpolation='nearest', cmap='gray', origin='lower')\n",
    "plt.colorbar();\n",
    "plt.savefig(\"remove_background_part1.png\")"
   ]
  },
  {
   "cell_type": "code",
   "execution_count": null,
   "id": "2d9e8aef-7e93-4fc3-8ee0-83583fd41e21",
   "metadata": {},
   "outputs": [],
   "source": [
    "bkg_rms = bkg.rms()"
   ]
  },
  {
   "cell_type": "code",
   "execution_count": null,
   "id": "ed3d1fce-a7bb-4c00-a8f5-a3c786096710",
   "metadata": {},
   "outputs": [],
   "source": [
    "plt.imshow(bkg_rms, interpolation='nearest', cmap='gray', origin='lower')\n",
    "plt.colorbar();\n",
    "plt.savefig(\"remove_background_part2.png\")"
   ]
  },
  {
   "cell_type": "markdown",
   "id": "502f2a2c-8259-47f7-a2ef-9772c702013c",
   "metadata": {},
   "source": [
    "Remove the sky background from the image and displaying the image."
   ]
  },
  {
   "cell_type": "code",
   "execution_count": null,
   "id": "2d744a2b-1e0e-4273-a239-e0bda0c7f733",
   "metadata": {},
   "outputs": [],
   "source": [
    "data_sub = data - bkg"
   ]
  },
  {
   "cell_type": "markdown",
   "id": "7c7d283a-c494-4001-88bc-08763beceed0",
   "metadata": {},
   "source": [
    "STEP 4) Detecting objects"
   ]
  },
  {
   "cell_type": "markdown",
   "id": "b1ff3ff4-47fd-4f03-ab35-ee8b374fe94e",
   "metadata": {},
   "source": [
    "Setting the detection threashhold and finding the array of objects."
   ]
  },
  {
   "cell_type": "code",
   "execution_count": null,
   "id": "65007ab5-6e50-4c53-800f-e7fc333aaaa9",
   "metadata": {},
   "outputs": [],
   "source": [
    "objects = sep.extract(data_sub, 1.5, err=bkg.globalrms)"
   ]
  },
  {
   "cell_type": "code",
   "execution_count": null,
   "id": "e6146b34-6de1-4660-8361-dc6bed14a91f",
   "metadata": {},
   "outputs": [],
   "source": [
    "len(objects)"
   ]
  },
  {
   "cell_type": "markdown",
   "id": "cb1966e3-360c-44b0-8b0c-cd34eeb694f1",
   "metadata": {},
   "source": [
    "Importing ellipse from matplotlib."
   ]
  },
  {
   "cell_type": "code",
   "execution_count": null,
   "id": "efc41366-2fed-4cb3-bfc4-ebfcce6178cf",
   "metadata": {},
   "outputs": [],
   "source": [
    "from matplotlib.patches import Ellipse"
   ]
  },
  {
   "cell_type": "markdown",
   "id": "1e084f10-eaa6-483a-8ee8-98b49a698efb",
   "metadata": {},
   "source": [
    "Plotting the image"
   ]
  },
  {
   "cell_type": "code",
   "execution_count": null,
   "id": "79c92c7f-6acb-482b-ae0e-3668f74181b5",
   "metadata": {},
   "outputs": [],
   "source": [
    "fig, ax = plt.subplots()\n",
    "m, s = np.mean(data_sub), np.std(data_sub)\n",
    "im = ax.imshow(data_sub, interpolation='nearest', cmap='gray',\n",
    "               vmin=m-s, vmax=m+s, origin='lower')\n",
    "\n",
    "for i in range(len(objects)):\n",
    "    e = Ellipse(xy=(objects['x'][i], objects['y'][i]),\n",
    "                width=6*objects['a'][i],\n",
    "                height=6*objects['b'][i],\n",
    "                angle=objects['theta'][i] * 180. / np.pi)\n",
    "    e.set_facecolor('none')\n",
    "    e.set_edgecolor('red')\n",
    "    ax.add_artist(e)\n",
    "    \n",
    "plt.savefig(\"object_detection.png\")"
   ]
  },
  {
   "cell_type": "markdown",
   "id": "f8eb7a47-b6c7-4c68-b48e-8f433f992400",
   "metadata": {},
   "source": [
    "STEP 5)Object and fluxes analysis"
   ]
  },
  {
   "cell_type": "code",
   "execution_count": null,
   "id": "10aedc72-43f4-46aa-bbc1-772207102822",
   "metadata": {},
   "outputs": [],
   "source": [
    "objects.dtype.names"
   ]
  },
  {
   "cell_type": "code",
   "execution_count": null,
   "id": "921aaa73-ae8c-48ef-9fb4-6fff536ea445",
   "metadata": {},
   "outputs": [],
   "source": [
    "print(f\"There are {len(objects)} objects.\")"
   ]
  },
  {
   "cell_type": "markdown",
   "id": "70eecea2-40dd-455d-8b6d-440f714b6ac5",
   "metadata": {},
   "source": [
    "Creating a simple circular aperture photometry at the locations of the objects.(Basically circling the objects)"
   ]
  },
  {
   "cell_type": "code",
   "execution_count": null,
   "id": "a8e503de-6a17-41fc-8deb-c03c31317e64",
   "metadata": {},
   "outputs": [],
   "source": [
    "flux, fluxerr, flag = sep.sum_circle(data_sub, objects['x'], objects['y'],\n",
    "                                     3.0, err=bkg.globalrms, gain=1.0)"
   ]
  },
  {
   "cell_type": "markdown",
   "id": "e858bf43-1fe9-4837-87eb-00c72294852b",
   "metadata": {},
   "source": [
    "Creating and displaying a histogram of the objects."
   ]
  },
  {
   "cell_type": "code",
   "execution_count": null,
   "id": "e812e2c9-0d8c-43ba-94d7-383c0f10c20d",
   "metadata": {},
   "outputs": [],
   "source": [
    "mag = -2.5*np.log10(flux)\n",
    "\n",
    "plt.hist(mag, range=[-5,10], bins=1000, alpha=0.5)\n",
    "plt.xlabel('-2.5 log10 F444W')\n",
    "plt.ylabel('N')\n",
    "\n",
    "plt.savefig('flux_histogram.png')"
   ]
  },
  {
   "cell_type": "markdown",
   "id": "a8957080-eb2f-4c04-9359-c6e6016b8d35",
   "metadata": {},
   "source": [
    "Finding the standard mean, median, and standard deviation of the fluxes."
   ]
  },
  {
   "cell_type": "code",
   "execution_count": null,
   "id": "6911ba2f-74c4-4f17-8a7a-f8c9f120000b",
   "metadata": {},
   "outputs": [],
   "source": [
    "f_mean = np.mean(flux)\n",
    "f_median = np.nanmedian(flux)\n",
    "f_std = np.std(flux)\n",
    "\n",
    "print(f\"The mean of the fluxes is {f_mean}\")\n",
    "print(f\"The median of the fluxes is {f_median}\")\n",
    "print(f\"The standard deviation of the fluxes is {f_std}\")"
   ]
  },
  {
   "cell_type": "code",
   "execution_count": null,
   "id": "2aabe535-85b3-47c0-a77d-64478bb354d2",
   "metadata": {},
   "outputs": [],
   "source": [
    "for i in range(10):\n",
    "    print(\"object {:d}: flux = {:f} +/- {:f}\".format(i, flux[i], fluxerr[i]))"
   ]
  },
  {
   "cell_type": "markdown",
   "id": "8ef4f346-4600-4e56-bada-672cd69ecbf1",
   "metadata": {},
   "source": [
    "Finding the outliers using the IQR."
   ]
  },
  {
   "cell_type": "code",
   "execution_count": null,
   "id": "8d679064-4cb3-429b-93f1-9f1ceac9026b",
   "metadata": {},
   "outputs": [],
   "source": [
    "q1 = np.percentile(flux, 25)\n",
    "q3 = np.percentile(flux, 75)\n",
    "iqr = q3 - q1\n",
    "\n",
    "lower_bound = q1 - 1.5 * iqr\n",
    "upper_bound = q3 + 1.5 * iqr\n",
    "\n",
    "f_outliers = flux[(flux < lower_bound) | (flux > upper_bound)]\n",
    "\n",
    "# Largest outlier\n",
    "print(f\"The largest outlier of the flux is {max(f_outliers)}.\")"
   ]
  },
  {
   "cell_type": "code",
   "execution_count": null,
   "id": "747956d7-35b4-488d-8f89-1db4a5ae91f1",
   "metadata": {},
   "outputs": [],
   "source": []
  }
 ],
 "metadata": {
  "kernelspec": {
   "display_name": "ASTR 19",
   "language": "python",
   "name": "astr19"
  },
  "language_info": {
   "codemirror_mode": {
    "name": "ipython",
    "version": 3
   },
   "file_extension": ".py",
   "mimetype": "text/x-python",
   "name": "python",
   "nbconvert_exporter": "python",
   "pygments_lexer": "ipython3",
   "version": "3.10.12"
  }
 },
 "nbformat": 4,
 "nbformat_minor": 5
}
