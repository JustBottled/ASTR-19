{
 "cells": [
  {
   "cell_type": "code",
   "execution_count": null,
   "id": "b14ccfa8-39f1-43f7-9fe1-65df376a1a3d",
   "metadata": {},
   "outputs": [],
   "source": [
    "import matplotlib.pyplot as plt\n",
    "import numpy as np"
   ]
  },
  {
   "cell_type": "code",
   "execution_count": null,
   "id": "5537ee8b-70b0-46ea-96d6-b3bc3d9b89ae",
   "metadata": {},
   "outputs": [],
   "source": [
    "x = np.random.exponential(1, 1000)\n",
    "\n",
    "bins = np.arange(np.floor(min(x)), np.ceil(max(x))+0.5, 0.5)\n",
    "plt.hist(x, bins=bins, alpha=0.5, edgecolor=\"black\")\n",
    "plt.xlabel('x')\n",
    "plt.ylabel(\"N per bin\")\n",
    "plt.title(\"Random Exponential Distribution\")\n",
    "\n",
    "plt.savefig(\"random_exponential_graph.pdf\", bbox_inches=\"tight\", facecolor=\"white\")"
   ]
  },
  {
   "cell_type": "code",
   "execution_count": null,
   "id": "93d472c7-e2fb-4e60-8502-11c5573d7a34",
   "metadata": {},
   "outputs": [],
   "source": []
  }
 ],
 "metadata": {
  "kernelspec": {
   "display_name": "ASTR 19",
   "language": "python",
   "name": "astr19"
  },
  "language_info": {
   "codemirror_mode": {
    "name": "ipython",
    "version": 3
   },
   "file_extension": ".py",
   "mimetype": "text/x-python",
   "name": "python",
   "nbconvert_exporter": "python",
   "pygments_lexer": "ipython3",
   "version": "3.10.12"
  }
 },
 "nbformat": 4,
 "nbformat_minor": 5
}
