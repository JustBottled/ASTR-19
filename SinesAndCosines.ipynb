{
 "cells": [
  {
   "cell_type": "code",
   "execution_count": null,
   "id": "e13937fa-98b2-419b-9154-4f0c00346a89",
   "metadata": {},
   "outputs": [],
   "source": [
    "import numpy as np"
   ]
  },
  {
   "cell_type": "code",
   "execution_count": null,
   "id": "c8c871f1-c19f-49cc-8823-6984e1a7d6f7",
   "metadata": {},
   "outputs": [],
   "source": [
    "def sin(x):\n",
    "    return np.sin(x)"
   ]
  },
  {
   "cell_type": "markdown",
   "id": "3812ee9b-beeb-4320-bec2-6d0aca8f8069",
   "metadata": {},
   "source": [
    "This simple function, when called, returns the sine of x."
   ]
  },
  {
   "cell_type": "code",
   "execution_count": null,
   "id": "b5ab4133-9617-427f-b4b7-2a397e44295c",
   "metadata": {},
   "outputs": [],
   "source": [
    "def cos(x):\n",
    "    return np.cos(x)"
   ]
  },
  {
   "cell_type": "markdown",
   "id": "8c8e791c-9325-4807-bfcc-3b28b0151112",
   "metadata": {},
   "source": [
    "This simple function, when called, returns the cosine of x."
   ]
  },
  {
   "cell_type": "code",
   "execution_count": null,
   "id": "7bc23689-f719-4c26-9bb4-93b72f024d40",
   "metadata": {},
   "outputs": [],
   "source": [
    "xElm = np.linspace(0, 2*np.pi, 1000)\n",
    "sinElm = sin(xElm)\n",
    "cosElm = sin(xElm)"
   ]
  },
  {
   "cell_type": "markdown",
   "id": "fdbed006-e723-48fb-ad48-ce91e6db08fc",
   "metadata": {},
   "source": [
    "Tabulates the x, sin(x), and cos(x) elements."
   ]
  },
  {
   "cell_type": "code",
   "execution_count": null,
   "id": "15e2e852-6211-4624-8131-2b825bde3dae",
   "metadata": {},
   "outputs": [],
   "source": [
    "for i in range(10):\n",
    "        print(xElm[i], sinElm[i], cosElm[i])"
   ]
  },
  {
   "cell_type": "markdown",
   "id": "e16f25c6-78ed-429e-91d1-0f9b7daf2889",
   "metadata": {},
   "source": [
    "Prints the first 10 outputs of x, sin(x), and cos(x)."
   ]
  }
 ],
 "metadata": {
  "kernelspec": {
   "display_name": "ASTR 19",
   "language": "python",
   "name": "astr19"
  },
  "language_info": {
   "codemirror_mode": {
    "name": "ipython",
    "version": 3
   },
   "file_extension": ".py",
   "mimetype": "text/x-python",
   "name": "python",
   "nbconvert_exporter": "python",
   "pygments_lexer": "ipython3",
   "version": "3.10.12"
  }
 },
 "nbformat": 4,
 "nbformat_minor": 5
}
