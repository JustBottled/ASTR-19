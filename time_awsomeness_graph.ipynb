{
 "cells": [
  {
   "cell_type": "code",
   "execution_count": null,
   "id": "e2736841-34ec-4be9-8eb7-2cb9fa838b95",
   "metadata": {},
   "outputs": [],
   "source": [
    "import matplotlib.pyplot as plt\n",
    "import numpy as np"
   ]
  },
  {
   "cell_type": "code",
   "execution_count": null,
   "id": "36401711-0016-4e96-87d2-9e7bc5c2939a",
   "metadata": {},
   "outputs": [],
   "source": [
    "x = np.linspace(0, 1, 100)"
   ]
  },
  {
   "cell_type": "code",
   "execution_count": null,
   "id": "f7699f78-c4ac-420c-ba06-6465bac344ff",
   "metadata": {},
   "outputs": [],
   "source": [
    "def exp(x):\n",
    "    return np.exp(x)"
   ]
  },
  {
   "cell_type": "code",
   "execution_count": null,
   "id": "b2ffa3ec-04cd-4c73-a1c0-9a23bb095c08",
   "metadata": {},
   "outputs": [],
   "source": [
    "y = exp(x)\n",
    "\n",
    "plt.plot(x, y)\n",
    "plt.xlabel(\"Time [milliseconds]\")\n",
    "plt.ylabel(\"Awesomeness\")\n",
    "\n",
    "plt.savefig(\"time-awsomeness.pdf\",bbox_inches=\"tight\",facecolor=\"white\")"
   ]
  },
  {
   "cell_type": "code",
   "execution_count": null,
   "id": "cbb03912-4e18-40d9-a97c-aaac3ba76639",
   "metadata": {},
   "outputs": [],
   "source": []
  }
 ],
 "metadata": {
  "kernelspec": {
   "display_name": "ASTR 19",
   "language": "python",
   "name": "astr19"
  },
  "language_info": {
   "codemirror_mode": {
    "name": "ipython",
    "version": 3
   },
   "file_extension": ".py",
   "mimetype": "text/x-python",
   "name": "python",
   "nbconvert_exporter": "python",
   "pygments_lexer": "ipython3",
   "version": "3.10.12"
  }
 },
 "nbformat": 4,
 "nbformat_minor": 5
}
