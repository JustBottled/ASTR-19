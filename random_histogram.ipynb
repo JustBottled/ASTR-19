{
 "cells": [
  {
   "cell_type": "code",
   "execution_count": null,
   "id": "79a116a6-b5f2-446c-99ca-56ff22e55e21",
   "metadata": {},
   "outputs": [],
   "source": [
    "import numpy as np\n",
    "import matplotlib.pyplot as plt"
   ]
  },
  {
   "cell_type": "code",
   "execution_count": null,
   "id": "bb0bd05e-b43d-47e1-b9a6-a0d41baf9da9",
   "metadata": {},
   "outputs": [],
   "source": [
    "n = 1000\n",
    "x = np.random.randn(n)\n",
    "\n",
    "histmin = np.floor(min(x))\n",
    "histmax = np.ceil(max(x))+0.5\n",
    "\n",
    "bins = np.arange(histmin, histmax, 0.5)\n",
    "plt.hist(x, bins=bins, alpha=0.5, edgecolor=\"black\")\n",
    "\n",
    "plt.savefig(\"random_histogram.pdf\", bbox_inches=\"tight\", facecolor=\"white\")"
   ]
  },
  {
   "cell_type": "code",
   "execution_count": null,
   "id": "84762d67-0b02-4701-bca6-bf57c83c8518",
   "metadata": {},
   "outputs": [],
   "source": []
  }
 ],
 "metadata": {
  "kernelspec": {
   "display_name": "ASTR 19",
   "language": "python",
   "name": "astr19"
  },
  "language_info": {
   "codemirror_mode": {
    "name": "ipython",
    "version": 3
   },
   "file_extension": ".py",
   "mimetype": "text/x-python",
   "name": "python",
   "nbconvert_exporter": "python",
   "pygments_lexer": "ipython3",
   "version": "3.10.12"
  }
 },
 "nbformat": 4,
 "nbformat_minor": 5
}
